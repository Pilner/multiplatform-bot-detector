{
 "cells": [
  {
   "cell_type": "code",
   "execution_count": 1,
   "id": "dfdc1a1c-3671-4092-a44d-e3cc3e16e3d1",
   "metadata": {},
   "outputs": [],
   "source": [
    "# import necessary packages\n",
    "from math import log2\n",
    "from collections import Counter"
   ]
  },
  {
   "cell_type": "code",
   "execution_count": 67,
   "id": "e5e0d5b9-8246-4916-bc6c-0634663cbe1e",
   "metadata": {},
   "outputs": [
    {
     "data": {
      "text/plain": [
       "'a'"
      ]
     },
     "execution_count": 67,
     "metadata": {},
     "output_type": "execute_result"
    }
   ],
   "source": [
    "# Initial String\n",
    "string = \"hello\"\n",
    "string"
   ]
  },
  {
   "cell_type": "code",
   "execution_count": 69,
   "id": "c75d19e0-01f2-4a4e-982b-6c02d081e7c0",
   "metadata": {},
   "outputs": [
    {
     "name": "stdout",
     "output_type": "stream",
     "text": [
      "Counter({'a': 1})\n",
      "-0.0\n"
     ]
    }
   ],
   "source": [
    "counts = Counter(string)\n",
    "frequencies = ((i / len(string)) for i in counts.values())\n",
    "string_entropy = (-sum(f * log2(f) for f in frequencies))\n",
    "print(counts)\n",
    "print(string_entropy)"
   ]
  },
  {
   "cell_type": "code",
   "execution_count": 71,
   "id": "9b5ca88e-3c5a-47bf-b4cd-0557a768ba13",
   "metadata": {},
   "outputs": [
    {
     "data": {
      "text/plain": [
       "<generator object <genexpr> at 0x000002AE409E7060>"
      ]
     },
     "execution_count": 71,
     "metadata": {},
     "output_type": "execute_result"
    }
   ],
   "source": [
    "frequencies"
   ]
  },
  {
   "cell_type": "code",
   "execution_count": null,
   "id": "13aa51cb-48dc-44bf-a727-d3cc6ab420b4",
   "metadata": {},
   "outputs": [],
   "source": []
  }
 ],
 "metadata": {
  "kernelspec": {
   "display_name": "Python 3 (ipykernel)",
   "language": "python",
   "name": "python3"
  },
  "language_info": {
   "codemirror_mode": {
    "name": "ipython",
    "version": 3
   },
   "file_extension": ".py",
   "mimetype": "text/x-python",
   "name": "python",
   "nbconvert_exporter": "python",
   "pygments_lexer": "ipython3",
   "version": "3.12.6"
  }
 },
 "nbformat": 4,
 "nbformat_minor": 5
}
